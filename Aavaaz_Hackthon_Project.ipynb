{
  "nbformat": 4,
  "nbformat_minor": 0,
  "metadata": {
    "colab": {
      "provenance": [],
      "authorship_tag": "ABX9TyPivw1PE+cebbSCvxEfsbcm",
      "include_colab_link": true
    },
    "kernelspec": {
      "name": "python3",
      "display_name": "Python 3"
    },
    "language_info": {
      "name": "python"
    }
  },
  "cells": [
    {
      "cell_type": "markdown",
      "metadata": {
        "id": "view-in-github",
        "colab_type": "text"
      },
      "source": [
        "<a href=\"https://colab.research.google.com/github/heruit777/Aavaaz_Hackthon/blob/main/Aavaaz_Hackthon_Project.ipynb\" target=\"_parent\"><img src=\"https://colab.research.google.com/assets/colab-badge.svg\" alt=\"Open In Colab\"/></a>"
      ]
    },
    {
      "cell_type": "markdown",
      "source": [
        "Following are the **steps** needed to use this notebook.\n",
        "1. Go to [Deepgram](https://deepgram.com) and create account and get API key.\n",
        "2. Go to [Groq's Console](https://console.groq.com/login) and create account and get API key.\n",
        "3. Create Secrets(key like Icon on left sidebar) in this notebook, give following variable names only:\n",
        "GROQ_API_KEY, DEEPGRAM_API_KEY\n",
        "4. Upload .mp3 files in this notebook. You can use some website to download mp3 of Youtube video. The video should be in english language.\n",
        "\n",
        "**Note**:\n",
        "Use Youtube videos which are less than 1 hour.\n",
        "\n",
        "Now you are ready to use this notebook!"
      ],
      "metadata": {
        "id": "gcr148-AfyrS"
      }
    },
    {
      "cell_type": "code",
      "source": [
        "# This code just formats the output in a word wrap.\n",
        "from IPython.display import HTML, display\n",
        "\n",
        "def set_css():\n",
        "  display(HTML('''\n",
        "  <style>\n",
        "    pre {\n",
        "        white-space: pre-wrap;\n",
        "    }\n",
        "  </style>\n",
        "  '''))\n",
        "get_ipython().events.register('pre_run_cell', set_css)"
      ],
      "metadata": {
        "id": "45OHs2OH9Jr7",
        "colab": {
          "base_uri": "https://localhost:8080/",
          "height": 17
        },
        "outputId": "12bc77aa-cf43-43d2-b88f-581d574fca70"
      },
      "execution_count": 22,
      "outputs": [
        {
          "output_type": "display_data",
          "data": {
            "text/plain": [
              "<IPython.core.display.HTML object>"
            ],
            "text/html": [
              "\n",
              "  <style>\n",
              "    pre {\n",
              "        white-space: pre-wrap;\n",
              "    }\n",
              "  </style>\n",
              "  "
            ]
          },
          "metadata": {}
        },
        {
          "output_type": "display_data",
          "data": {
            "text/plain": [
              "<IPython.core.display.HTML object>"
            ],
            "text/html": [
              "\n",
              "  <style>\n",
              "    pre {\n",
              "        white-space: pre-wrap;\n",
              "    }\n",
              "  </style>\n",
              "  "
            ]
          },
          "metadata": {}
        }
      ]
    },
    {
      "cell_type": "code",
      "source": [
        "audio_file = \"sample2.mp3\" # give your audio file name, you can only give English language audio\n",
        "language = \"Hindi\" # JSON data(output) language, you can give any language"
      ],
      "metadata": {
        "colab": {
          "base_uri": "https://localhost:8080/",
          "height": 17
        },
        "id": "3rQisDeMxeHI",
        "outputId": "e94d6489-e0e6-408a-e843-cb11c392b3a9"
      },
      "execution_count": 23,
      "outputs": [
        {
          "output_type": "display_data",
          "data": {
            "text/plain": [
              "<IPython.core.display.HTML object>"
            ],
            "text/html": [
              "\n",
              "  <style>\n",
              "    pre {\n",
              "        white-space: pre-wrap;\n",
              "    }\n",
              "  </style>\n",
              "  "
            ]
          },
          "metadata": {}
        },
        {
          "output_type": "display_data",
          "data": {
            "text/plain": [
              "<IPython.core.display.HTML object>"
            ],
            "text/html": [
              "\n",
              "  <style>\n",
              "    pre {\n",
              "        white-space: pre-wrap;\n",
              "    }\n",
              "  </style>\n",
              "  "
            ]
          },
          "metadata": {}
        },
        {
          "output_type": "display_data",
          "data": {
            "text/plain": [
              "<IPython.core.display.HTML object>"
            ],
            "text/html": [
              "\n",
              "  <style>\n",
              "    pre {\n",
              "        white-space: pre-wrap;\n",
              "    }\n",
              "  </style>\n",
              "  "
            ]
          },
          "metadata": {}
        }
      ]
    },
    {
      "cell_type": "code",
      "source": [
        "!pip install groq deepgram-sdk"
      ],
      "metadata": {
        "colab": {
          "base_uri": "https://localhost:8080/",
          "height": 607
        },
        "collapsed": true,
        "id": "yairX0wK1mmg",
        "outputId": "e80e1911-a0c1-467b-f072-7337e5028b10"
      },
      "execution_count": 24,
      "outputs": [
        {
          "output_type": "display_data",
          "data": {
            "text/plain": [
              "<IPython.core.display.HTML object>"
            ],
            "text/html": [
              "\n",
              "  <style>\n",
              "    pre {\n",
              "        white-space: pre-wrap;\n",
              "    }\n",
              "  </style>\n",
              "  "
            ]
          },
          "metadata": {}
        },
        {
          "output_type": "display_data",
          "data": {
            "text/plain": [
              "<IPython.core.display.HTML object>"
            ],
            "text/html": [
              "\n",
              "  <style>\n",
              "    pre {\n",
              "        white-space: pre-wrap;\n",
              "    }\n",
              "  </style>\n",
              "  "
            ]
          },
          "metadata": {}
        },
        {
          "output_type": "display_data",
          "data": {
            "text/plain": [
              "<IPython.core.display.HTML object>"
            ],
            "text/html": [
              "\n",
              "  <style>\n",
              "    pre {\n",
              "        white-space: pre-wrap;\n",
              "    }\n",
              "  </style>\n",
              "  "
            ]
          },
          "metadata": {}
        },
        {
          "output_type": "stream",
          "name": "stdout",
          "text": [
            "Requirement already satisfied: groq in /usr/local/lib/python3.10/dist-packages (0.12.0)\n",
            "Requirement already satisfied: deepgram-sdk in /usr/local/lib/python3.10/dist-packages (3.7.7)\n",
            "Requirement already satisfied: anyio<5,>=3.5.0 in /usr/local/lib/python3.10/dist-packages (from groq) (3.7.1)\n",
            "Requirement already satisfied: distro<2,>=1.7.0 in /usr/local/lib/python3.10/dist-packages (from groq) (1.9.0)\n",
            "Requirement already satisfied: httpx<1,>=0.23.0 in /usr/local/lib/python3.10/dist-packages (from groq) (0.27.2)\n",
            "Requirement already satisfied: pydantic<3,>=1.9.0 in /usr/local/lib/python3.10/dist-packages (from groq) (2.9.2)\n",
            "Requirement already satisfied: sniffio in /usr/local/lib/python3.10/dist-packages (from groq) (1.3.1)\n",
            "Requirement already satisfied: typing-extensions<5,>=4.7 in /usr/local/lib/python3.10/dist-packages (from groq) (4.12.2)\n",
            "Requirement already satisfied: websockets<14.0,>=12.0 in /usr/local/lib/python3.10/dist-packages (from deepgram-sdk) (13.1)\n",
            "Requirement already satisfied: dataclasses-json>=0.6.3 in /usr/local/lib/python3.10/dist-packages (from deepgram-sdk) (0.6.7)\n",
            "Requirement already satisfied: aiohttp>=3.9.1 in /usr/local/lib/python3.10/dist-packages (from deepgram-sdk) (3.11.2)\n",
            "Requirement already satisfied: aiofiles>=23.2.1 in /usr/local/lib/python3.10/dist-packages (from deepgram-sdk) (24.1.0)\n",
            "Requirement already satisfied: aenum>=3.1.0 in /usr/local/lib/python3.10/dist-packages (from deepgram-sdk) (3.1.15)\n",
            "Requirement already satisfied: deprecation>=2.1.0 in /usr/local/lib/python3.10/dist-packages (from deepgram-sdk) (2.1.0)\n",
            "Requirement already satisfied: aiohappyeyeballs>=2.3.0 in /usr/local/lib/python3.10/dist-packages (from aiohttp>=3.9.1->deepgram-sdk) (2.4.3)\n",
            "Requirement already satisfied: aiosignal>=1.1.2 in /usr/local/lib/python3.10/dist-packages (from aiohttp>=3.9.1->deepgram-sdk) (1.3.1)\n",
            "Requirement already satisfied: attrs>=17.3.0 in /usr/local/lib/python3.10/dist-packages (from aiohttp>=3.9.1->deepgram-sdk) (24.2.0)\n",
            "Requirement already satisfied: frozenlist>=1.1.1 in /usr/local/lib/python3.10/dist-packages (from aiohttp>=3.9.1->deepgram-sdk) (1.5.0)\n",
            "Requirement already satisfied: multidict<7.0,>=4.5 in /usr/local/lib/python3.10/dist-packages (from aiohttp>=3.9.1->deepgram-sdk) (6.1.0)\n",
            "Requirement already satisfied: propcache>=0.2.0 in /usr/local/lib/python3.10/dist-packages (from aiohttp>=3.9.1->deepgram-sdk) (0.2.0)\n",
            "Requirement already satisfied: yarl<2.0,>=1.17.0 in /usr/local/lib/python3.10/dist-packages (from aiohttp>=3.9.1->deepgram-sdk) (1.17.2)\n",
            "Requirement already satisfied: async-timeout<6.0,>=4.0 in /usr/local/lib/python3.10/dist-packages (from aiohttp>=3.9.1->deepgram-sdk) (4.0.3)\n",
            "Requirement already satisfied: idna>=2.8 in /usr/local/lib/python3.10/dist-packages (from anyio<5,>=3.5.0->groq) (3.10)\n",
            "Requirement already satisfied: exceptiongroup in /usr/local/lib/python3.10/dist-packages (from anyio<5,>=3.5.0->groq) (1.2.2)\n",
            "Requirement already satisfied: marshmallow<4.0.0,>=3.18.0 in /usr/local/lib/python3.10/dist-packages (from dataclasses-json>=0.6.3->deepgram-sdk) (3.23.1)\n",
            "Requirement already satisfied: typing-inspect<1,>=0.4.0 in /usr/local/lib/python3.10/dist-packages (from dataclasses-json>=0.6.3->deepgram-sdk) (0.9.0)\n",
            "Requirement already satisfied: packaging in /usr/local/lib/python3.10/dist-packages (from deprecation>=2.1.0->deepgram-sdk) (24.2)\n",
            "Requirement already satisfied: certifi in /usr/local/lib/python3.10/dist-packages (from httpx<1,>=0.23.0->groq) (2024.8.30)\n",
            "Requirement already satisfied: httpcore==1.* in /usr/local/lib/python3.10/dist-packages (from httpx<1,>=0.23.0->groq) (1.0.7)\n",
            "Requirement already satisfied: h11<0.15,>=0.13 in /usr/local/lib/python3.10/dist-packages (from httpcore==1.*->httpx<1,>=0.23.0->groq) (0.14.0)\n",
            "Requirement already satisfied: annotated-types>=0.6.0 in /usr/local/lib/python3.10/dist-packages (from pydantic<3,>=1.9.0->groq) (0.7.0)\n",
            "Requirement already satisfied: pydantic-core==2.23.4 in /usr/local/lib/python3.10/dist-packages (from pydantic<3,>=1.9.0->groq) (2.23.4)\n",
            "Requirement already satisfied: mypy-extensions>=0.3.0 in /usr/local/lib/python3.10/dist-packages (from typing-inspect<1,>=0.4.0->dataclasses-json>=0.6.3->deepgram-sdk) (1.0.0)\n"
          ]
        }
      ]
    },
    {
      "cell_type": "code",
      "source": [
        "# importing Secrets to use\n",
        "from google.colab import files, userdata\n",
        "GROQ_API_KEY = userdata.get('GROQ_API_KEY')\n",
        "DEEPGRAM_API_KEY = userdata.get('DEEPGRAM_API_KEY')"
      ],
      "metadata": {
        "colab": {
          "base_uri": "https://localhost:8080/",
          "height": 17
        },
        "id": "Uk_eTy9BgTgB",
        "outputId": "a2a9e2b5-29db-4281-9566-0a23e5606aff"
      },
      "execution_count": 25,
      "outputs": [
        {
          "output_type": "display_data",
          "data": {
            "text/plain": [
              "<IPython.core.display.HTML object>"
            ],
            "text/html": [
              "\n",
              "  <style>\n",
              "    pre {\n",
              "        white-space: pre-wrap;\n",
              "    }\n",
              "  </style>\n",
              "  "
            ]
          },
          "metadata": {}
        },
        {
          "output_type": "display_data",
          "data": {
            "text/plain": [
              "<IPython.core.display.HTML object>"
            ],
            "text/html": [
              "\n",
              "  <style>\n",
              "    pre {\n",
              "        white-space: pre-wrap;\n",
              "    }\n",
              "  </style>\n",
              "  "
            ]
          },
          "metadata": {}
        },
        {
          "output_type": "display_data",
          "data": {
            "text/plain": [
              "<IPython.core.display.HTML object>"
            ],
            "text/html": [
              "\n",
              "  <style>\n",
              "    pre {\n",
              "        white-space: pre-wrap;\n",
              "    }\n",
              "  </style>\n",
              "  "
            ]
          },
          "metadata": {}
        }
      ]
    },
    {
      "cell_type": "code",
      "source": [
        "# send an audio file to deepgram and get the response.\n",
        "from deepgram import (\n",
        "    DeepgramClient,\n",
        "    PrerecordedOptions,\n",
        ")\n",
        "import json\n",
        "\n",
        "\n",
        "try:\n",
        "    deepgram = DeepgramClient(api_key=DEEPGRAM_API_KEY)\n",
        "    with open(audio_file, \"rb\") as file:\n",
        "        buffer_data = file.read()\n",
        "\n",
        "    payload = {\n",
        "        \"buffer\": buffer_data,\n",
        "    }\n",
        "\n",
        "    options = PrerecordedOptions(\n",
        "        model=\"nova-2\",\n",
        "        smart_format=True,\n",
        "        diarize=True,\n",
        "        filler_words=True,\n",
        "    )\n",
        "\n",
        "    response = deepgram.listen.rest.v(\"1\").transcribe_file(payload, options)\n",
        "    response = json.loads(response.to_json(indent=4))\n",
        "\n",
        "    # to store the response in the file\n",
        "    # with open(\"sample2.json\", \"w\") as file:\n",
        "    #     json.dump(response, file, indent=4)\n",
        "\n",
        "    # print(response)\n",
        "    duration = response[\"metadata\"][\"duration\"] # In seconds\n",
        "    transcripted_data =  response[\"results\"][\"channels\"][0][\"alternatives\"][0][\"paragraphs\"][\"transcript\"]\n",
        "    list_of_paras = response[\"results\"][\"channels\"][0][\"alternatives\"][0][\"paragraphs\"][\"paragraphs\"]\n",
        "    # print(duration)\n",
        "    # print(duration, transcripted_data, list_of_paras)\n",
        "except Exception as e:\n",
        "    print(e.args[0], '\\nPlease run this cell again.')"
      ],
      "metadata": {
        "colab": {
          "base_uri": "https://localhost:8080/",
          "height": 17
        },
        "id": "4Iqav4khgvO_",
        "outputId": "c4f4349a-88d6-4fd0-b696-729b71ad2790"
      },
      "execution_count": 26,
      "outputs": [
        {
          "output_type": "display_data",
          "data": {
            "text/plain": [
              "<IPython.core.display.HTML object>"
            ],
            "text/html": [
              "\n",
              "  <style>\n",
              "    pre {\n",
              "        white-space: pre-wrap;\n",
              "    }\n",
              "  </style>\n",
              "  "
            ]
          },
          "metadata": {}
        },
        {
          "output_type": "display_data",
          "data": {
            "text/plain": [
              "<IPython.core.display.HTML object>"
            ],
            "text/html": [
              "\n",
              "  <style>\n",
              "    pre {\n",
              "        white-space: pre-wrap;\n",
              "    }\n",
              "  </style>\n",
              "  "
            ]
          },
          "metadata": {}
        },
        {
          "output_type": "display_data",
          "data": {
            "text/plain": [
              "<IPython.core.display.HTML object>"
            ],
            "text/html": [
              "\n",
              "  <style>\n",
              "    pre {\n",
              "        white-space: pre-wrap;\n",
              "    }\n",
              "  </style>\n",
              "  "
            ]
          },
          "metadata": {}
        }
      ]
    },
    {
      "cell_type": "code",
      "source": [
        "# System prompt to extract summary and key points based on audio type.\n",
        "system_prompt_1 = '''\n",
        "You are an advanced conversational assistant. The user will provide text content containing paragraphs spoken by different speakers.\n",
        "\n",
        "Your tasks are:\n",
        "1. Content Analysis: Analyze the content to determine its type(Meeting, Interview or Debate) and extract key details.\n",
        "2. Response Generation: Provide a structured JSON response.\n",
        "\n",
        "\n",
        "JSON schema for Meeting\n",
        "{\n",
        "  \"type\": \"string (Meeting, Interview or Debate) (required)\",\n",
        "  \"summary\": \"string (A detailed and long summary covering all the important ascepts of the content) (required)\",\n",
        "  \"key_takeaways\": \"array of strings (List of all the important decision/takeaways/events/action Items given in the content) (optional, use [] to represent optional)\",\n",
        "  \"meeting_tone\": \"string explaining the tone of the meeting in one line and use emojis. (required)\",\n",
        "  \"keywords\": \"array of strings (List all the important keywords/technical terms given in the content) (required)\"\n",
        "}\n",
        "JSON schema for Interview\n",
        "{\n",
        "  \"type\": \"string (Meeting, Interview or Debate) (required)\",\n",
        "  \"candidate_name\": \"string (Name of the candidate) (required)\",\n",
        "  \"interview_type\": \"string (identify the type of interview) (required)\"\n",
        "  \"summary\": \"string (A detailed and long summary covering all the important ascepts of the content) (required)\",\n",
        "  \"questions\": [\n",
        "    {\"question\": \"string (required)\", \"answer\": \"string (answer given by the candidate) (required)\", \"AI_answer\": \"string (give a better/alternative answer the candidate could have given based on the invterview type.)\"}\n",
        "  ]\n",
        "  \"confidence_level\": \"string (judge the confidence level of the candidate based on the responses and categorize in (low,average or high)) (required)\",\n",
        "  \"learnings\": \"string (Give some improvement suggestions to the candidate based on the reponses of the candidate) (required)\"\n",
        "}\n",
        "\n",
        "JSON schema for Debate\n",
        "{\n",
        "  \"type\": \"string (Meeting, Interview or Debate) (required)\",\n",
        "  \"topic_of_debate\": \"string (extract the topic of the debate) (required)\"\n",
        "  \"summary\": \"string (A detailed and long summary covering all the important ascepts of the content) (required)\",\n",
        "  \"key_arguments\": \"array of strings (List of important agruments) (required)\",\n",
        "  \"debate_tone\": \"string (explain the tone/emotion of the debate and use emojis.) \"\n",
        "  \"keywords\": \"array of strings (List all the important keywords/technical terms given in the content) (required)\"\n",
        "}\n",
        "'''\n",
        "\n",
        "# System prompt for translation\n",
        "system_prompt_2 = '''\n",
        "You are an expert at translating array data into the user-specified language. Given an array of strings, your task is to translate each string in the array to the target language.\n",
        "The output must be in a JSON format with the following structure:\n",
        "\n",
        "{\n",
        "  \"text\": [\n",
        "    \"translated_string_1\",\n",
        "    \"translated_string_2\",\n",
        "    ...\n",
        "  ]\n",
        "}\n",
        "\n",
        "Rule to follow:\n",
        "- Ensure each string is translated accurately to the target language.\n",
        "- The translations should be contextually appropriate and natural.\n",
        "- Maintain the order of strings in the array.\n",
        "- The output should only include the translated text in the array, without any additional explanation or changes to the structure.\n",
        "'''"
      ],
      "metadata": {
        "id": "1t9IQqV8mY3w",
        "colab": {
          "base_uri": "https://localhost:8080/",
          "height": 17
        },
        "outputId": "007f20df-c637-496c-d2f7-02972131d72b"
      },
      "execution_count": 27,
      "outputs": [
        {
          "output_type": "display_data",
          "data": {
            "text/plain": [
              "<IPython.core.display.HTML object>"
            ],
            "text/html": [
              "\n",
              "  <style>\n",
              "    pre {\n",
              "        white-space: pre-wrap;\n",
              "    }\n",
              "  </style>\n",
              "  "
            ]
          },
          "metadata": {}
        },
        {
          "output_type": "display_data",
          "data": {
            "text/plain": [
              "<IPython.core.display.HTML object>"
            ],
            "text/html": [
              "\n",
              "  <style>\n",
              "    pre {\n",
              "        white-space: pre-wrap;\n",
              "    }\n",
              "  </style>\n",
              "  "
            ]
          },
          "metadata": {}
        },
        {
          "output_type": "display_data",
          "data": {
            "text/plain": [
              "<IPython.core.display.HTML object>"
            ],
            "text/html": [
              "\n",
              "  <style>\n",
              "    pre {\n",
              "        white-space: pre-wrap;\n",
              "    }\n",
              "  </style>\n",
              "  "
            ]
          },
          "metadata": {}
        }
      ]
    },
    {
      "cell_type": "code",
      "source": [
        "# Use Groq's LLamma models\n",
        "\n",
        "from groq import Groq\n",
        "\n",
        "try:\n",
        "    client = Groq(api_key=GROQ_API_KEY)\n",
        "\n",
        "    res1 = client.chat.completions.create(\n",
        "        messages=[\n",
        "            {\n",
        "                \"role\": \"system\",\n",
        "                \"content\": system_prompt_1,\n",
        "            },\n",
        "            {\n",
        "                \"role\": \"user\",\n",
        "                \"content\": f\"Data: {transcripted_data}\",\n",
        "            },\n",
        "        ],\n",
        "        model=\"llama-3.1-8b-instant\",\n",
        "        response_format={\"type\": \"json_object\"},\n",
        "        temperature=0.1\n",
        "    )\n",
        "\n",
        "    text = res1.choices[0].message.content\n",
        "    json_data = json.loads(text)\n",
        "    print(text)\n",
        "except Exception as e:\n",
        "    print(e.args[0],'\\nPlease run this cell again.')\n",
        "\n",
        "# extract all string values from JSON in order.\n",
        "def extract_strings(obj, strings=[]):\n",
        "    if isinstance(obj, str):\n",
        "        strings.append(obj)\n",
        "    elif isinstance(obj, dict):\n",
        "        for value in obj.values():\n",
        "            extract_strings(value, strings)\n",
        "    elif isinstance(obj, list):\n",
        "        for item in obj:\n",
        "            extract_strings(item, strings)\n",
        "    return strings\n",
        "\n",
        "all_strings = extract_strings(json_data)"
      ],
      "metadata": {
        "colab": {
          "base_uri": "https://localhost:8080/",
          "height": 1000
        },
        "collapsed": true,
        "id": "tNmsdN4Ei-wC",
        "outputId": "8740037f-d679-43fe-bfb3-d8e90e6b4a8b"
      },
      "execution_count": 28,
      "outputs": [
        {
          "output_type": "display_data",
          "data": {
            "text/plain": [
              "<IPython.core.display.HTML object>"
            ],
            "text/html": [
              "\n",
              "  <style>\n",
              "    pre {\n",
              "        white-space: pre-wrap;\n",
              "    }\n",
              "  </style>\n",
              "  "
            ]
          },
          "metadata": {}
        },
        {
          "output_type": "display_data",
          "data": {
            "text/plain": [
              "<IPython.core.display.HTML object>"
            ],
            "text/html": [
              "\n",
              "  <style>\n",
              "    pre {\n",
              "        white-space: pre-wrap;\n",
              "    }\n",
              "  </style>\n",
              "  "
            ]
          },
          "metadata": {}
        },
        {
          "output_type": "display_data",
          "data": {
            "text/plain": [
              "<IPython.core.display.HTML object>"
            ],
            "text/html": [
              "\n",
              "  <style>\n",
              "    pre {\n",
              "        white-space: pre-wrap;\n",
              "    }\n",
              "  </style>\n",
              "  "
            ]
          },
          "metadata": {}
        },
        {
          "output_type": "stream",
          "name": "stdout",
          "text": [
            "{\n",
            "   \"type\": \"Interview\",\n",
            "   \"candidate_name\": \"Akshat Jain\",\n",
            "   \"interview_type\": \"Civil Services Interview\",\n",
            "   \"summary\": \"The interview was conducted to assess Akshat Jain's suitability for the Indian Administrative Service. The panelists asked him a range of questions on his background, interests, and experiences, as well as his views on various social and economic issues. Akshat demonstrated a good understanding of the topics and showed enthusiasm and confidence throughout the interview.\",\n",
            "   \"questions\": [\n",
            "      {\n",
            "         \"question\": \"What is your opinion on the perception that civil servants are elitist?\",\n",
            "         \"answer\": \"I think it can be attributed to the colonial legacy of our Indian bureaucracy and the perception that bureaucrats serve the interests of the elite sections and themselves.\",\n",
            "         \"AI_answer\": \"This is a valid point, but it's also important to note that many bureaucrats have done positive work for society. It's not a blanket statement, and there are many exceptions.\"\n",
            "      },\n",
            "      {\n",
            "         \"question\": \"What are the ills and evils eating into the vitals of Indian bureaucracy?\",\n",
            "         \"answer\": \"Corruption, merit being overlooked in favor of seniority, and nepotism are some of the issues.\",\n",
            "         \"AI_answer\": \"These are all significant problems that need to be addressed. Corruption is a major issue, and merit should be the primary consideration for promotions and appointments.\"\n",
            "      },\n",
            "      {\n",
            "         \"question\": \"How would you dispel the feelings among people that you are corrupt or nepotistic?\",\n",
            "         \"answer\": \"I would use technology to enhance transparency, establish an in-house investigation mechanism, and improve the service citizen interface, particularly at the grassroots level.\",\n",
            "         \"AI_answer\": \"This is a good approach, but it's also important to address the root causes of these perceptions and to demonstrate a commitment to serving the public interest.\"\n",
            "      },\n",
            "      {\n",
            "         \"question\": \"What is the importance of Jantar Mantar?\",\n",
            "         \"answer\": \"It's a UNESCO World Heritage Site and houses the largest ton instrument in India.\",\n",
            "         \"AI_answer\": \"This is a significant cultural and historical landmark, and it's great that you're familiar with it.\"\n",
            "      },\n",
            "      {\n",
            "         \"question\": \"Can you recall the names of some important women entrepreneurs?\",\n",
            "         \"answer\": \"I can recall the name of Swati J N, who is the founder of YourDost, a company that provides emotional wellness services.\",\n",
            "         \"AI_answer\": \"This is a good example, but it would be even better if you could recall more names or provide more information about these entrepreneurs.\"\n",
            "      },\n",
            "      {\n",
            "         \"question\": \"What is the anthropological basis of religion?\",\n",
            "         \"answer\": \"From an anthropological perspective, religion was started to fulfill certain human needs, such as alleviating fears of death and the unknown.\",\n",
            "         \"AI_answer\": \"This is a good point, but it's also important to note that science and religion serve different purposes and are not mutually exclusive.\"\n",
            "      },\n",
            "      {\n",
            "         \"question\": \"Can you tell me about the conflict between the state police and the central police?\",\n",
            "         \"answer\": \"The CBI was investigating cases in West Bengal, but the state government did not give its consent, leading to a conflict.\",\n",
            "         \"AI_answer\": \"This is a complex issue, and it's good that you're familiar with the background. However, it would be even better if you could provide more information or analysis on the topic.\"\n",
            "      },\n",
            "      {\n",
            "         \"question\": \"How would you address the issue of dowry in marriage?\",\n",
            "         \"answer\": \"I would not accept a car as a gift from the bride's father, as it creates an obligation and can be seen as a form of dowry.\",\n",
            "         \"AI_answer\": \"This is a good approach, but it's also important to consider the cultural and social context of the issue and to find ways to address it in a more nuanced and effective manner.\"\n",
            "      },\n",
            "      {\n",
            "         \"question\": \"What are your preferences for civil service postings?\",\n",
            "         \"answer\": \"My first preference is the Indian Administrative Service, followed by the police service and the foreign service.\",\n",
            "         \"AI_answer\": \"This is a good answer, but it would be even better if you could provide more information or justification for your preferences.\"\n",
            "      },\n",
            "      {\n",
            "         \"question\": \"Can you think of any reasons why you should not be selected for the civil service?\",\n",
            "         \"answer\": \"I don't think there are any reasons why I should not be selected.\",\n",
            "         \"AI_answer\": \"This is a good answer, but it would be even better if you could demonstrate more humility and a willingness to learn and improve.\"\n",
            "      }\n",
            "   ],\n",
            "   \"confidence_level\": \"High\",\n",
            "   \"learnings\": \"Akshat demonstrated a good understanding of the topics and showed enthusiasm and confidence throughout the interview. However, he could have provided more information and analysis on some of the questions, and demonstrated more humility and a willingness to learn and improve.\"\n",
            "}\n"
          ]
        }
      ]
    },
    {
      "cell_type": "code",
      "source": [
        "# translation to user's given language\n",
        "try:\n",
        "    res2 = client.chat.completions.create(\n",
        "        messages=[\n",
        "            {\n",
        "                \"role\": \"system\",\n",
        "                \"content\": system_prompt_2,\n",
        "            },\n",
        "            {\n",
        "                \"role\": \"user\",\n",
        "                \"content\": f\"Array data: {all_strings} Translate to: {language}\",\n",
        "            },\n",
        "        ],\n",
        "        model=\"llama-3.1-70b-versatile\",\n",
        "        response_format={\"type\": \"json_object\"},\n",
        "        temperature=1\n",
        "    )\n",
        "\n",
        "    text = res2.choices[0].message.content\n",
        "    # print(text)\n",
        "    translated_json_data = json.loads(text)\n",
        "    replacement_array = translated_json_data[\"text\"]\n",
        "\n",
        "    index = 0\n",
        "    def replace_strings(obj, replacement_array):\n",
        "        global index\n",
        "        if isinstance(obj, str):\n",
        "            # If we encounter a string, replace it with the value from the array\n",
        "            if index < len(replacement_array):\n",
        "                a = replacement_array[index]\n",
        "                index += 1\n",
        "                return a\n",
        "            else:\n",
        "                return obj # no value present in array then return the values as it is.\n",
        "        elif isinstance(obj, dict):\n",
        "            # Recursively process dictionary\n",
        "            for key, value in obj.items():\n",
        "                obj[key] = replace_strings(value, replacement_array)\n",
        "        elif isinstance(obj, list):\n",
        "            # Recursively process list\n",
        "            for i in range(len(obj)):\n",
        "                obj[i] = replace_strings(obj[i], replacement_array)\n",
        "        return obj\n",
        "\n",
        "\n",
        "    # Model may written few or more translated words.\n",
        "    if len(replacement_array) != len(all_strings):\n",
        "        # throw error here\n",
        "        raise Exception(f\"Translation error. Model only translated {len(replacement_array)} out of {len(all_strings)} sentences\")\n",
        "\n",
        "    # print(all_strings)\n",
        "    # print(replacement_array)\n",
        "    final_json_data = replace_strings(json_data, replacement_array)\n",
        "    print(json.dumps(final_json_data, ensure_ascii=False, indent=4))\n",
        "except Exception as e:\n",
        "    print(e.args[0], '\\nSome error occured in traslation process. Please run this cell again.')"
      ],
      "metadata": {
        "id": "J0GwxH0pHuCk",
        "colab": {
          "base_uri": "https://localhost:8080/",
          "height": 1000
        },
        "outputId": "5dcfcaba-ada1-4506-ff0b-c46ca9d1426a"
      },
      "execution_count": 29,
      "outputs": [
        {
          "output_type": "display_data",
          "data": {
            "text/plain": [
              "<IPython.core.display.HTML object>"
            ],
            "text/html": [
              "\n",
              "  <style>\n",
              "    pre {\n",
              "        white-space: pre-wrap;\n",
              "    }\n",
              "  </style>\n",
              "  "
            ]
          },
          "metadata": {}
        },
        {
          "output_type": "display_data",
          "data": {
            "text/plain": [
              "<IPython.core.display.HTML object>"
            ],
            "text/html": [
              "\n",
              "  <style>\n",
              "    pre {\n",
              "        white-space: pre-wrap;\n",
              "    }\n",
              "  </style>\n",
              "  "
            ]
          },
          "metadata": {}
        },
        {
          "output_type": "display_data",
          "data": {
            "text/plain": [
              "<IPython.core.display.HTML object>"
            ],
            "text/html": [
              "\n",
              "  <style>\n",
              "    pre {\n",
              "        white-space: pre-wrap;\n",
              "    }\n",
              "  </style>\n",
              "  "
            ]
          },
          "metadata": {}
        },
        {
          "output_type": "stream",
          "name": "stdout",
          "text": [
            "{\n",
            "    \"type\": \"साक्षात्कार\",\n",
            "    \"candidate_name\": \"आकाश जैन\",\n",
            "    \"interview_type\": \"सिविल सेवा प्रवेश साक्षात्कार\",\n",
            "    \"summary\": \"साक्षात्कार आकाश जैन की भारतीय प्रशासनिक सेवा के लिए उपयुक्तता का मूल्यांकन करने के लिए आयोजित किया गया था।  पैनल ने उनसे उनकी पृष्ठभूमि, रुचियों और अनुभवों के साथ-साथ विभिन्न सामाजिक और आर्थिक मुद्दों पर उनके विचारों के बारे में विभिन्न प्रश्न पूछे थे। आकाश ने विषयों की अच्छी समझ दिखाई और साक्षात्कार में पूरी तरह से उत्साह और आत्मविश्वास दिखाया।\",\n",
            "    \"questions\": [\n",
            "        {\n",
            "            \"question\": \"आपको लगता है कि हमारे सिविल सेवक अमीर लोगों के इशारे में क्यों चलते हैं?\",\n",
            "            \"answer\": \"मुझे लगता है कि जो image हमारी इंडियन ब्यूरोक्रेसी में है, उसकी वजह है colonial युग का हमारा प्रशासनिक setup, जिसमें इतना फायदा उठाया गया, bureaucratic system का और यह धारणा की जाती रही की कुछ लोग अपने विचारों को खुद फैसले करने वाले पायदान पर रखते हैं।\",\n",
            "            \"AI_answer\": \"यह एक वैध बिंदु है, लेकिन यह भी महत्वपूर्ण है कि कुछ अधिकारियों ने समाज के लिए सकारात्मक कार्य किए हैं। यह एक सामान्य कथन नहीं है, और इसमें कई अपवाद हैं।\"\n",
            "        },\n",
            "        {\n",
            "            \"question\": \"भारतीय सिविल सेवा की नसों में कौन-कौनकर ills हैं?\",\n",
            "            \"answer\": \"भ्रष्टाचार, योग्यता की अनदेखी करना, और भाई-भतीजावाद। ये कुछ मुद्दे हैं जिन्हें संबोधित किया जाना चाहिए।\",\n",
            "            \"AI_answer\": \"ये सब महत्वपूर्ण समस्याएं हैं जिन्हें संबोधित किया जाना चाहिए।  भ्रष्टाचार एक प्रमुख समस्या है, और योग्यता को पदोन्नति और नियुक्तियों के लिए मुख्य विचार करना चाहिए।\"\n",
            "        },\n",
            "        {\n",
            "            \"question\": \"आप लोगों को यह कैसे समझाएंगे कि आप वसूली लेते हैं?\",\n",
            "            \"answer\": \"मैं तकनीक का उपयोग करके पारदर्शिता बढ़ाओ, एक सेवा सुचारू रूप से संसाधन तैयार करुं और  संसाधन संतुलन से कार्य करुं, और नागरिकों को सीधे बात करने के माध्यम से विकसित करुं।\",\n",
            "            \"AI_answer\": \"यह एक अच्छा दृष्टिकोण है, लेकिन यह भी महत्वपूर्ण है कि इन आचरण के मूल कारणों को संबोधित किया जाए और जनहित की सेवा करने की प्रतिबद्धता दिखाई जाए।\"\n",
            "        },\n",
            "        {\n",
            "            \"question\": \"जंतर मंतर का महत्व क्या है?\",\n",
            "            \"answer\": \"यह एक यूनेस्को विश्व धरोहर स्थल है।\",\n",
            "            \"AI_answer\": \"यह एक महत्वपूर्ण सांस्कृतिक और ऐतिहासिक स्थल है, और यह अच्छा है कि आप इसके बारे में परिचित हैं।\"\n",
            "        },\n",
            "        {\n",
            "            \"question\": \"कुछ प्रमुख महिला उद्यमियों के नाम याद कर सकते हैं?\",\n",
            "            \"answer\": \"मुझे स्वाती जेएन का नाम याद है, जो योरडोस्ट की संस्थापक हैं, जो भावनात्मक कल्याण सेवाएं प्रदान करती है।\",\n",
            "            \"AI_answer\": \"यह एक अच्छा उदाहरण है, लेकिन यह अधिक अच्छा होगा यदि आप अधिक नाम याद कर सकें या इन उद्यमियों के बारे में अधिक जानकारी प्रदान कर सकें।\"\n",
            "        },\n",
            "        {\n",
            "            \"question\": \"धर्म की मानवीय आधार विवेचना क्या है?\",\n",
            "            \"answer\": \"मानवीय दृष्टिकोण से धर्म की शुरुआत मानवीय कुछ ज़रूरतों को पूरा करने के लिए की गई थी, जैसे कि मृत्यु और अज्ञात के डर को दूर करना।\",\n",
            "            \"AI_answer\": \"यह एक अच्छा बिंदु है, लेकिन यह भी महत्वपूर्ण है कि विज्ञान और धर्म अलग-अलग उद्देश्यों की पूर्ति करते हैं और आपस में एक-दूसरे के विरोधी नहीं हैं।\"\n",
            "        },\n",
            "        {\n",
            "            \"question\": \"राज्य पुलिस और केंद्रीय पुलिस के बीच संघर्ष के बारे में बताएं?\",\n",
            "            \"answer\": \"सीबीआई पश्चिम बंगाल में मामलों की जांच कर रही थी, लेकिन राज्य सरकार ने अपनी सहमति नहीं दी, जिसकारण संघर्ष हुआ।\",\n",
            "            \"AI_answer\": \"यह एक जटिल मुद्दा है, और यह अच्छा है कि आप इसके歴ील के साथ परिचित हैं।  हालाँकि, यह अधिक अच्छा होगा यदि आप विषय के बारे में अधिक जानकारी या विश्लेषण प्रदान कर सकें।\"\n",
            "        },\n",
            "        {\n",
            "            \"question\": \"विवाह में दहेज की समस्या का समाधान क्या है?\",\n",
            "            \"answer\": \"मैं दुल्हन के पिता से कार के रूप में उपहार स्वीकार नहीं करूंगा, क्योंकि यह एक बाध्यता पैदा करता है और दहेज के रूप में देखा जा सकता है।\",\n",
            "            \"AI_answer\": \"यह एक अच्छा दृष्टिकोण है, लेकिन यह भी महत्वपूर्ण है कि इस समस्या का समाधान करने के लिए सांस्कृतिक और सामाजिक परिप्रेक्ष्य को ध्यान में रखा जाए और इसका समाधान करने के लिए अधिक सूक्ष्म और प्रभावी तरीके ढूंढे जाएं।\"\n",
            "        },\n",
            "        {\n",
            "            \"question\": \"आपकी पूर्वग्रह है?\",\n",
            "            \"answer\": \"मेरी प्राथमिकता भारतीय प्रशासनिक सेवा है, इसके बाद पुलिस सेवा और विदेश सेवा।\",\n",
            "            \"AI_answer\": \"यह एक अच्छा उत्तर है, लेकिन यह अधिक अच्छा होगा यदि आप अपनी पसंद के लिए अधिक जानकारी या औचित्य प्रदान कर सकें।\"\n",
            "        },\n",
            "        {\n",
            "            \"question\": \"आपको लगता है कि आपको नागरिक सेवा के लिए चयनित नहीं किया जाना चाहिए?\",\n",
            "            \"answer\": \"मुझे नहीं लगता कि कोई कारण है जिसका आपको लगता है कि आपको चयनित नहीं किया जाना चाहिए।\",\n",
            "            \"AI_answer\": \"यह एक अच्छा उत्तर है, लेकिन यह अधिक अच्छा होगा यदि आप अधिक विनम्रता और सीखने और सुधार करने की इच्छा दिखा सकें।\"\n",
            "        }\n",
            "    ],\n",
            "    \"confidence_level\": \"उच्च\",\n",
            "    \"learnings\": \"आकाश ने विषयों की अच्छी समझ दिखाई और साक्षात्कार में पूरी तरह से उत्साह और आत्मविश्वास दिखाया।  हालांकि, उन्हें कुछ प्रश्नों पर अधिक जानकारी और विश्लेषण प्रदान करना चाहिए था, और विनम्रता और सीखने और सुधार करने की इच्छा दिखानी चाहिए थी।\"\n",
            "}\n"
          ]
        }
      ]
    }
  ]
}